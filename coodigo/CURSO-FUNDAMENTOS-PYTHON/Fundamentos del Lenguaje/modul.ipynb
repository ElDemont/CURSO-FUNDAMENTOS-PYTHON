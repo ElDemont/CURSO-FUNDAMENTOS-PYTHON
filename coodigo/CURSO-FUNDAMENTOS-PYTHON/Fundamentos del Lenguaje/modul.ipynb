{
 "cells": [
  {
   "cell_type": "code",
   "execution_count": null,
   "id": "098b64c6",
   "metadata": {},
   "outputs": [],
   "source": [
    "def agregar_una_vez(lista, el):\n",
    "    try:\n",
    "        if el in lista:\n",
    "            raise ValueError(f\"Imposible añadir elementos duplicados => {el}\")\n",
    "        \n",
    "        lista.append(el)\n",
    "        \n",
    "    except ValueError as ve:\n",
    "        print(f\"Error: {ve}\")\n",
    "    finally:\n",
    "        print(\"Gracias por usar este programa\")\n",
    "\n",
    "mi_lista = [1, 2, 3, 4]\n",
    "agregar_una_vez(mi_lista, 5) \n",
    "agregar_una_vez(mi_lista, 3) \n"
   ]
  }
 ],
 "metadata": {
  "language_info": {
   "name": "python"
  }
 },
 "nbformat": 4,
 "nbformat_minor": 5
}
