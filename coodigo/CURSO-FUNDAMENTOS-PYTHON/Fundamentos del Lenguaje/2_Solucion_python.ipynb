{
 "cells": [
  {
   "cell_type": "code",
   "execution_count": null,
   "metadata": {
    "vscode": {
     "languageId": "plaintext"
    }
   },
   "outputs": [],
   "source": [
    "1. Leer un número y presentar la tabla de multiplicar de ese número entre 1 y 10. Utilizar el siguiente formato como ejemplo:\n",
    "```\n",
    "1 x 1 = 1\n",
    "1 x 2 = 2\n",
    "1 x 3 = 3\n",
    "1 x 4 = 4\n",
    "1 x 5 = 5\n",
    "```"
   ]
  },
  {
   "cell_type": "code",
   "execution_count": null,
   "metadata": {
    "vscode": {
     "languageId": "plaintext"
    }
   },
   "outputs": [],
   "source": [
    "Leer un número y presentar la tabla de multiplicar de ese número entre 1 y 10.\n",
    "numero = int(input(\"Ingresa un número: \"))\n",
    "\n",
    "for i in range(1, 11):\n",
    "    print(f\"{numero} x {i} = {numero * i}\")\n"
   ]
  },
  {
   "cell_type": "code",
   "execution_count": null,
   "metadata": {
    "vscode": {
     "languageId": "plaintext"
    }
   },
   "outputs": [],
   "source": [
    "2. En un partido de fútbol, se ofrece un descuento a los aficionados que depende del estrato y la edad.  Si el estrato es 1 y su edad es menor a 18 el descuento será del 20% sobre el valor de la boleta.   Si el estrato es 1 y el alumno tiene 18 o mas años, el descuento será del 15%.  Si  el estrato es 2 y la edad es menor a 18 años, el descuento será del 10% y si el estrato es 2 y la edad es 18 años o más, el descuento será del 5%.  Determinar el total del dinero recaudado y descontado por las últimas N personas que ingresan al partido."
   ]
  },
  {
   "cell_type": "code",
   "execution_count": null,
   "metadata": {
    "vscode": {
     "languageId": "plaintext"
    }
   },
   "outputs": [],
   "source": [
    "\n",
    "def calcular_descuento(estrato, edad, valor_boleta):\n",
    "    if estrato == 1:\n",
    "        if edad < 18:\n",
    "            descuento = 0.20  \n",
    "        else:\n",
    "            descuento = 0.15  \n",
    "    elif estrato == 2:\n",
    "        if edad < 18:\n",
    "            descuento = 0.10  \n",
    "        else:\n",
    "            descuento = 0.05  \n",
    "    else:\n",
    "        descuento = 0  \n",
    "\n",
    "    monto_descuento = valor_boleta * descuento\n",
    "    valor_final = valor_boleta - monto_descuento\n",
    "    return monto_descuento, valor_final\n",
    "\n",
    "N = int(input(\"¿Cuántas personas ingresan al partido? \"))\n",
    "\n",
    "total_recaudado = 0\n",
    "total_descuentos = 0\n",
    "\n",
    "for i in range(1, N + 1):\n",
    "    print(f\"\\nDatos de la persona {i}:\")\n",
    "\n",
    "    estrato = int(input(\"Ingrese el estrato (1 o 2): \"))\n",
    "    edad = int(input(\"Ingrese la edad: \"))\n",
    "    valor_boleta = float(input(\"Ingrese el valor de la boleta: \"))\n",
    "\n",
    "    descuento, valor_final = calcular_descuento(estrato, edad, valor_boleta)\n",
    "\n",
    "    total_descuentos += descuento\n",
    "    total_recaudado += valor_final\n",
    "\n",
    "    print(f\"Descuento aplicado: ${descuento:.2f}\")\n",
    "    print(f\"Valor final a pagar: ${valor_final:.2f}\")\n",
    "\n",
    "print(f\"\\nTotal de dinero recaudado: ${total_recaudado:.2f}\")\n",
    "print(f\"Total de descuentos otorgados: ${total_descuentos:.2f}\")"
   ]
  },
  {
   "cell_type": "code",
   "execution_count": null,
   "metadata": {
    "vscode": {
     "languageId": "plaintext"
    }
   },
   "outputs": [],
   "source": [
    "3.  Leer un password de ingreso a un programa y mostrar el mensaje de bienvenida si es correcto. Mientras no lo sea, debe mostrar el mensaje de Password incorrecto. El programa debe terminar automáticamente al quinto intento fallido."
   ]
  },
  {
   "cell_type": "code",
   "execution_count": null,
   "metadata": {
    "vscode": {
     "languageId": "plaintext"
    }
   },
   "outputs": [],
   "source": [
    "while intentos < 5:\n",
    "    password_ingresado = input(\"Introduce el password: \")\n",
    "    \n",
    "    if password_ingresado == password_correcto:\n",
    "        print(\"¡Bienvenido al programa!\")\n",
    "        break  \n",
    "    else:\n",
    "        intentos += 1\n",
    "        print(\"Password incorrecto.\")\n",
    "\n",
    "    if intentos == 5:\n",
    "        print(\"Has alcanzado el número máximo de intentos. El programa se cerrará.\")\n"
   ]
  }
 ],
 "metadata": {
  "language_info": {
   "name": "python"
  }
 },
 "nbformat": 4,
 "nbformat_minor": 2
}
