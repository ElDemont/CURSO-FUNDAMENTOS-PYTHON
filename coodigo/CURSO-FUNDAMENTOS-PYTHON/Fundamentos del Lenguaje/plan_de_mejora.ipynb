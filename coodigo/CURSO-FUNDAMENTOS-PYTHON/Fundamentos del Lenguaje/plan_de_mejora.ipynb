{
 "cells": [
  {
   "cell_type": "code",
   "execution_count": null,
   "id": "0cc981cb",
   "metadata": {
    "vscode": {
     "languageId": "plaintext"
    }
   },
   "outputs": [],
   "source": [
    "#trabajo 1\n",
    "\n",
    "# Datos de los estudiantes y sus calificaciones\n",
    "alumnos = {\n",
    "    \"Ana\": [70, 85, 90],\n",
    "    \"Luis\": [55, 60, 58],\n",
    "    \"Carlos\": [80, 78, 85]\n",
    "}\n",
    "\n",
    "# puntos minimos de aprobación\n",
    "umbral_aprobacion = 60\n",
    "\n",
    "# Función para calcular el promedio y estado\n",
    "def obtener_promedio_y_estado(calificaciones):\n",
    "    promedio = sum(calificaciones) / len(calificaciones)\n",
    "    estado = \"Aprobado\" if promedio >= umbral_aprobacion else \"Reprobado\"\n",
    "    return promedio, estado\n",
    "\n",
    "# Mostrar el resumen de los alumnos\n",
    "for alumno, calificaciones in alumnos.items():\n",
    "    promedio, estado = obtener_promedio_y_estado(calificaciones)\n",
    "    print(f\"{alumno}: Promedio: {promedio:.2f} -> {estado}\")\n"
   ]
  },
  {
   "cell_type": "code",
   "execution_count": null,
   "id": "3cbfbc5a",
   "metadata": {
    "vscode": {
     "languageId": "plaintext"
    }
   },
   "outputs": [],
   "source": [
    "#trabajo 2\n",
    "\n",
    "# Inventario inicial\n",
    "inventario = {\n",
    "    \"Manzanas\": 50,\n",
    "    \"Naranjas\": 20,\n",
    "    \"Peras\": 0,\n",
    "    \"Plátanos\": 30\n",
    "}\n",
    "\n",
    "# Función para actualizar el inventario\n",
    "def actualizar_inventario(inventario, producto, cantidad):\n",
    "    if cantidad == 0:\n",
    "        del inventario[producto]\n",
    "    else:\n",
    "        inventario[producto] = cantidad\n",
    "\n",
    "# Actualizar el inventario según los cambios\n",
    "actualizar_inventario(inventario, \"Manzanas\", 45)\n",
    "\n",
    "# Mostrar el inventario actualizado, ordenado\n",
    "print(\"Inventario actualizado:\")\n",
    "for producto, cantidad in sorted(inventario.items()):\n",
    "    print(f\"{producto}: {cantidad}\")\n"
   ]
  },
  {
   "cell_type": "code",
   "execution_count": null,
   "id": "34fe8751",
   "metadata": {
    "vscode": {
     "languageId": "plaintext"
    }
   },
   "outputs": [],
   "source": [
    "#trabajo 3\n",
    "\n",
    "# Hobbies de los grupos A y B\n",
    "grupo_a = {'leer', 'correr', 'pintar', 'viajar'}\n",
    "grupo_b = {'correr', 'cocinar', 'viajar', 'bailar'}\n",
    "\n",
    "# Operaciones con conjuntos\n",
    "hobbies_comunes = grupo_a & grupo_b\n",
    "hobbies_exclusivos_a = grupo_a - grupo_b\n",
    "hobbies_exclusivos_b = grupo_b - grupo_a\n",
    "todos_los_hobbies = grupo_a | grupo_b\n",
    "\n",
    "# Mostrar los resultados\n",
    "print(f\"Hobbies en común: {hobbies_comunes}\")\n",
    "print(f\"Hobbies exclusivos del Grupo A: {hobbies_exclusivos_a}\")\n",
    "print(f\"Hobbies exclusivos del Grupo B: {hobbies_exclusivos_b}\")\n",
    "print(f\"Todos los hobbies: {todos_los_hobbies}\")\n"
   ]
  },
  {
   "cell_type": "code",
   "execution_count": null,
   "id": "a38e0beb",
   "metadata": {
    "vscode": {
     "languageId": "plaintext"
    }
   },
   "outputs": [],
   "source": [
    "#trabajo 4\n",
    "\n",
    "# Datos iniciales del empleado (tupla)\n",
    "empleado = ('Carlos', 30, 'Ventas', 3000)\n",
    "\n",
    "# Convertir tupla a lista para modificarla\n",
    "empleado_lista = list(empleado)\n",
    "\n",
    "# Aplicar aumento salarial del 10%\n",
    "empleado_lista[3] = empleado_lista[3] * 1.10\n",
    "\n",
    "# Convertir de nuevo a tupla\n",
    "empleado_actualizado = tuple(empleado_lista)\n",
    "\n",
    "# Mostrar los datos actualizados\n",
    "print(f\"Datos actualizados del empleado: {empleado_actualizado}\")\n"
   ]
  },
  {
   "cell_type": "code",
   "execution_count": null,
   "id": "4e23020f",
   "metadata": {
    "vscode": {
     "languageId": "plaintext"
    }
   },
   "outputs": [],
   "source": [
    "#trabajo 5\n",
    "\n",
    "# Solicitar la frase al usuario\n",
    "frase = \"La programación en Python es muy divertida\"\n",
    "\n",
    "# Dividir la frase en palabras y filtrar aquellas con más de 4 caracteres\n",
    "palabras = frase.split()\n",
    "palabras_filtradas = [palabra for palabra in palabras if len(palabra) > 4]\n",
    "\n",
    "# Mostrar las palabras filtradas ordenadas\n",
    "print(f\"Palabras con más de 4 caracteres: {sorted(palabras_filtradas)}\")\n"
   ]
  }
 ],
 "metadata": {
  "language_info": {
   "name": "python"
  }
 },
 "nbformat": 4,
 "nbformat_minor": 5
}
