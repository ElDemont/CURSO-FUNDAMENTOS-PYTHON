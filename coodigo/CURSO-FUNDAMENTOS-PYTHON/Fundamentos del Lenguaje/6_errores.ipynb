{
 "cells": [
  {
   "cell_type": "code",
   "execution_count": null,
   "id": "6e291e08",
   "metadata": {
    "vscode": {
     "languageId": "plaintext"
    }
   },
   "outputs": [],
   "source": [
    "#trabajo 1\n",
    "\n",
    "while True:\n",
    "    try:\n",
    "        lista = [3, 5, 6, 8]\n",
    "        pos = int(input(\"Ingrese la posición del elemento que desea obtener: \"))\n",
    "        print(f\"El valor en la posición {pos} es {lista[pos]}\")\n",
    "        break\n",
    "    except IndexError:\n",
    "        print(\"El índice está fuera del rango.\")\n",
    "    except ValueError:\n",
    "        print(\"Solo se permiten números enteros.\")\n"
   ]
  },
  {
   "cell_type": "code",
   "execution_count": null,
   "id": "b4fc3f7a",
   "metadata": {
    "vscode": {
     "languageId": "plaintext"
    }
   },
   "outputs": [],
   "source": [
    "#trabajo 2\n",
    "\n",
    "def agregar_una_vez(lista, el):\n",
    "    try:\n",
    "        if el in lista:\n",
    "            raise ValueError(f\"Error: Imposible añadir elementos duplicados => {el}\")\n",
    "        else:\n",
    "            lista.append(el)\n",
    "    except ValueError as e:\n",
    "        print(e)\n",
    "    finally:\n",
    "        print(lista)\n",
    "        print(\"Gracias por usar este programa\")\n",
    "\n",
    "agregar_una_vez(lista=[\"a\", \"b\", \"c\"], el=\"c\")\n"
   ]
  }
 ],
 "metadata": {
  "language_info": {
   "name": "python"
  }
 },
 "nbformat": 4,
 "nbformat_minor": 5
}
