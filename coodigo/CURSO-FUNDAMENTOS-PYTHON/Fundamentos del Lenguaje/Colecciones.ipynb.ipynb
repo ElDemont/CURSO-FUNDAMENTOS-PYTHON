{
 "cells": [
  {
   "cell_type": "code",
   "execution_count": null,
   "metadata": {},
   "outputs": [],
   "source": [
    "1.Pregunte al usuario cuántos elementos desea ingresar en una lista, luego solicite cada uno de ellos y presente el contenido de la lista y su contenido invertido."
   ]
  },
  {
   "cell_type": "code",
   "execution_count": null,
   "metadata": {},
   "outputs": [],
   "source": [
    "n = int(input(\"¿Cuántos elementos deseas ingresar en la lista? \"))\n",
    "\n",
    "lista = []\n",
    "\n",
    "for i in range(n):\n",
    "    elemento = input(f\"Ingrese el elemento {i + 1}: \")\n",
    "    lista.append(elemento)\n",
    "\n",
    "print(\"Lista original:\", lista)\n",
    "\n",
    "lista_invertida = lista[::-1]\n",
    "print(\"Lista invertida:\", lista_invertida)\n"
   ]
  },
  {
   "cell_type": "code",
   "execution_count": null,
   "metadata": {},
   "outputs": [],
   "source": [
    "2.Crear una lista de números y solicitar un número. Borrar de la lista ese número en todas las posiciones donde se encuentre. Presentar la lista final"
   ]
  },
  {
   "cell_type": "code",
   "execution_count": null,
   "metadata": {},
   "outputs": [],
   "source": [
    "import random\n",
    "\n",
    "#random.randit = como creador de lista aleatoria\n",
    "lista_numeros = [random.randint(0, 9) for _ in range(35)]\n",
    "\n",
    "print(\"Lista de números:\", lista_numeros)\n",
    "\n",
    "numero_a_eliminar = int(input(\"Ingresa el número que quieres eliminar: \"))\n",
    "\n",
    "while numero_a_eliminar in lista_numeros:\n",
    "    lista_numeros.remove(numero_a_eliminar)\n",
    "\n",
    "print(\"Lista sin el numero eliminado:\", lista_numeros)\n"
   ]
  },
  {
   "cell_type": "code",
   "execution_count": null,
   "metadata": {},
   "outputs": [],
   "source": [
    "3.Solicite al usuario dos frases y devuelva una lista con todas las letras que se repiten en la misma posición de ambas listas\n",
    "ejemplo: frase1: \"holasena\" frase2: \"todogana\" salida: [\"o\",\"n\", \"a\"]\n"
   ]
  },
  {
   "cell_type": "code",
   "execution_count": null,
   "metadata": {},
   "outputs": [],
   "source": [
    "\n",
    "frase1 = input(\"Ingresa la primera frase: \")\n",
    "frase2 = input(\"Ingresa la segunda frase: \")\n",
    "\n",
    "letras_repetidas = []\n",
    "\n",
    "# se usa min para no superar el tamaño de la frase más corta\n",
    "for i in range(min(len(frase1), len(frase2))): \n",
    "    if frase1[i] == frase2[i]:\n",
    "        letras_repetidas.append(frase1[i])\n",
    "\n",
    "print(\"Letras repetidas en la misma posición:\", letras_repetidas)\n"
   ]
  }
 ],
 "metadata": {
  "kernelspec": {
   "display_name": "Python 3",
   "language": "python",
   "name": "python3"
  },
  "language_info": {
   "codemirror_mode": {
    "name": "ipython",
    "version": 3
   },
   "file_extension": ".py",
   "mimetype": "text/x-python",
   "name": "python",
   "nbconvert_exporter": "python",
   "pygments_lexer": "ipython3",
   "version": "3.12.5"
  }
 },
 "nbformat": 4,
 "nbformat_minor": 2
}
