{
 "cells": [
  {
   "cell_type": "code",
   "execution_count": 1,
   "id": "86ae23b5",
   "metadata": {},
   "outputs": [
    {
     "name": "stdout",
     "output_type": "stream",
     "text": [
      "La suma de 10 y 5 es: 15\n",
      "La resta de 10 y 5 es: 5\n",
      "La multiplicación de 10 y 5 es: 50\n",
      "La división de 10 y 5 es: 2.0\n"
     ]
    }
   ],
   "source": [
    "import matematicas\n",
    "\n",
    "num1 = 10\n",
    "num2 = 5\n",
    "\n",
    "print(f\"La suma de {num1} y {num2} es: {matematicas.sumar(num1, num2)}\")\n",
    "print(f\"La resta de {num1} y {num2} es: {matematicas.restar(num1, num2)}\")\n",
    "print(f\"La multiplicación de {num1} y {num2} es: {matematicas.multiplicar(num1, num2)}\")\n",
    "print(f\"La división de {num1} y {num2} es: {matematicas.dividir(num1, num2)}\")\n"
   ]
  }
 ],
 "metadata": {
  "kernelspec": {
   "display_name": "Python 3",
   "language": "python",
   "name": "python3"
  },
  "language_info": {
   "codemirror_mode": {
    "name": "ipython",
    "version": 3
   },
   "file_extension": ".py",
   "mimetype": "text/x-python",
   "name": "python",
   "nbconvert_exporter": "python",
   "pygments_lexer": "ipython3",
   "version": "3.12.5"
  }
 },
 "nbformat": 4,
 "nbformat_minor": 5
}
